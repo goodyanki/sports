{
 "cells": [
  {
   "cell_type": "code",
   "id": "initial_id",
   "metadata": {
    "collapsed": true,
    "ExecuteTime": {
     "end_time": "2024-11-06T12:55:29.222136Z",
     "start_time": "2024-11-06T12:55:27.524102Z"
    }
   },
   "source": [
    "from nba_api.stats.endpoints import leaguedashplayerstats\n",
    "\n",
    "season = \"2023-24\"  # NBA 的赛季格式为 \"YYYY-YY\"\n",
    "season_type = \"Playoffs\"  # 指定季后赛数据\n",
    "per_mode = \"PerGame\" \n",
    "\n",
    "player_stats = leaguedashplayerstats.LeagueDashPlayerStats(season=season, season_type_all_star=season_type, per_mode_detailed=per_mode, )\n",
    "data = player_stats.get_data_frames()[0]  \n",
    "\n",
    "print(data.columns)\n"
   ],
   "outputs": [
    {
     "name": "stdout",
     "output_type": "stream",
     "text": [
      "Index(['PLAYER_ID', 'PLAYER_NAME', 'NICKNAME', 'TEAM_ID', 'TEAM_ABBREVIATION',\n",
      "       'AGE', 'GP', 'W', 'L', 'W_PCT', 'MIN', 'FGM', 'FGA', 'FG_PCT', 'FG3M',\n",
      "       'FG3A', 'FG3_PCT', 'FTM', 'FTA', 'FT_PCT', 'OREB', 'DREB', 'REB', 'AST',\n",
      "       'TOV', 'STL', 'BLK', 'BLKA', 'PF', 'PFD', 'PTS', 'PLUS_MINUS',\n",
      "       'NBA_FANTASY_PTS', 'DD2', 'TD3', 'WNBA_FANTASY_PTS', 'GP_RANK',\n",
      "       'W_RANK', 'L_RANK', 'W_PCT_RANK', 'MIN_RANK', 'FGM_RANK', 'FGA_RANK',\n",
      "       'FG_PCT_RANK', 'FG3M_RANK', 'FG3A_RANK', 'FG3_PCT_RANK', 'FTM_RANK',\n",
      "       'FTA_RANK', 'FT_PCT_RANK', 'OREB_RANK', 'DREB_RANK', 'REB_RANK',\n",
      "       'AST_RANK', 'TOV_RANK', 'STL_RANK', 'BLK_RANK', 'BLKA_RANK', 'PF_RANK',\n",
      "       'PFD_RANK', 'PTS_RANK', 'PLUS_MINUS_RANK', 'NBA_FANTASY_PTS_RANK',\n",
      "       'DD2_RANK', 'TD3_RANK', 'WNBA_FANTASY_PTS_RANK'],\n",
      "      dtype='object')\n"
     ]
    }
   ],
   "execution_count": 2
  },
  {
   "metadata": {
    "ExecuteTime": {
     "end_time": "2024-11-06T14:41:39.932347Z",
     "start_time": "2024-11-06T14:41:39.924793Z"
    }
   },
   "cell_type": "code",
   "source": [
    "# 过滤出 GP >= 5 的球员，按 GP 排序，并选择指定列\n",
    "selected_columns = ['PLAYER_ID', 'PLAYER_NAME', 'TEAM_ABBREVIATION', 'TEAM_ID', 'GP', 'PTS', 'FG_PCT', 'REB', 'STL', 'BLK']\n",
    "filtered_data = data[data['GP'] >= 5].sort_values(by='GP', ascending=False)[selected_columns]\n"
   ],
   "id": "79c06468c5fbf88e",
   "outputs": [],
   "execution_count": 10
  },
  {
   "metadata": {
    "ExecuteTime": {
     "end_time": "2024-11-06T14:41:41.812632Z",
     "start_time": "2024-11-06T14:41:41.796080Z"
    }
   },
   "cell_type": "code",
   "source": "print(filtered_data.head())\n",
   "id": "d1689808642796c6",
   "outputs": [
    {
     "name": "stdout",
     "output_type": "stream",
     "text": [
      "     PLAYER_ID        PLAYER_NAME TEAM_ABBREVIATION     TEAM_ID  GP   PTS  \\\n",
      "111    1630182         Josh Green               DAL  1610612742  22   5.0   \n",
      "51     1627884  Derrick Jones Jr.               DAL  1610612742  22   9.1   \n",
      "138    1629029        Luka Dončić               DAL  1610612742  22  28.9   \n",
      "40     1629655     Daniel Gafford               DAL  1610612742  22   9.0   \n",
      "132     202681       Kyrie Irving               DAL  1610612742  22  22.1   \n",
      "\n",
      "     FG_PCT  REB  STL  BLK  \n",
      "111   0.424  2.5  0.8  0.1  \n",
      "51    0.481  3.5  0.5  1.0  \n",
      "138   0.446  9.5  1.9  0.4  \n",
      "40    0.634  5.5  0.3  1.5  \n",
      "132   0.467  3.7  1.0  0.3  \n"
     ]
    }
   ],
   "execution_count": 11
  },
  {
   "metadata": {
    "ExecuteTime": {
     "end_time": "2024-11-06T14:41:45.660407Z",
     "start_time": "2024-11-06T14:41:45.646737Z"
    }
   },
   "cell_type": "code",
   "source": "filtered_data.to_csv('def.csv', index=False)\n",
   "id": "b31982a4ac6c498f",
   "outputs": [],
   "execution_count": 12
  },
  {
   "metadata": {},
   "cell_type": "code",
   "outputs": [],
   "execution_count": null,
   "source": "",
   "id": "e4671fd3cd25f184"
  }
 ],
 "metadata": {
  "kernelspec": {
   "display_name": "Python 3",
   "language": "python",
   "name": "python3"
  },
  "language_info": {
   "codemirror_mode": {
    "name": "ipython",
    "version": 2
   },
   "file_extension": ".py",
   "mimetype": "text/x-python",
   "name": "python",
   "nbconvert_exporter": "python",
   "pygments_lexer": "ipython2",
   "version": "2.7.6"
  }
 },
 "nbformat": 4,
 "nbformat_minor": 5
}
