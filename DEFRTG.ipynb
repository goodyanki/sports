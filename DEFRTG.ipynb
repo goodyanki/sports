{
 "cells": [
  {
   "metadata": {
    "ExecuteTime": {
     "end_time": "2024-11-06T13:14:10.485976Z",
     "start_time": "2024-11-06T13:14:10.428810Z"
    }
   },
   "cell_type": "code",
   "source": [
    "from nba_api.stats.endpoints import leaguedashplayerstats\n",
    "\n",
    "# 设置赛季和季后赛类型\n",
    "season = \"2023-24\"\n",
    "season_type = \"Playoffs\"\n",
    "per_mode = \"PerGame\"\n",
    "\n",
    "# 获取高级统计数据\n",
    "player_stats = leaguedashplayerstats.LeagueDashPlayerStats(\n",
    "    season=season, \n",
    "    season_type_all_star=season_type, \n",
    "    per_mode_detailed=per_mode,\n",
    "    measure_type_detailed_defense=\"Defense\"  # 指定为高级统计数据\n",
    ")\n",
    "\n",
    "# 获取数据框\n",
    "data = player_stats.get_data_frames()[0]\n",
    "\n",
    "# 只保留包含防守效率（DEF_RATING）和其他关键的高级统计列\n",
    "selected_columns = ['PLAYER_ID', 'PLAYER_NAME', 'TEAM_ABBREVIATION', 'GP', 'DEF_RATING', 'DEF_WS']\n",
    "filtered_data = data[data['GP'] >= 5].sort_values(by='GP', ascending=False)[selected_columns]\n",
    "\n",
    "# 查看前几行数据\n",
    "print(filtered_data.head())\n"
   ],
   "id": "initial_id",
   "outputs": [
    {
     "name": "stdout",
     "output_type": "stream",
     "text": [
      "     PLAYER_ID        PLAYER_NAME TEAM_ABBREVIATION  GP  DEF_RATING  DEF_WS\n",
      "111    1630182         Josh Green               DAL  22       109.7  -0.477\n",
      "51     1627884  Derrick Jones Jr.               DAL  22       107.8  -0.724\n",
      "138    1629029        Luka Dončić               DAL  22       109.4  -1.023\n",
      "40     1629655     Daniel Gafford               DAL  22       111.3  -0.538\n",
      "132     202681       Kyrie Irving               DAL  22       110.9  -1.033\n"
     ]
    }
   ],
   "execution_count": 4
  },
  {
   "metadata": {
    "ExecuteTime": {
     "end_time": "2024-11-06T13:14:29.865812Z",
     "start_time": "2024-11-06T13:14:29.851082Z"
    }
   },
   "cell_type": "code",
   "source": "filtered_data.to_csv('DEFRTG.csv', index=False)\n",
   "id": "62d75f977e7cff8f",
   "outputs": [],
   "execution_count": 6
  },
  {
   "metadata": {
    "ExecuteTime": {
     "end_time": "2024-11-06T13:14:28.242845Z",
     "start_time": "2024-11-06T13:14:28.237313Z"
    }
   },
   "cell_type": "code",
   "source": "",
   "id": "d6b370f9a34a8c07",
   "outputs": [],
   "execution_count": 5
  },
  {
   "metadata": {},
   "cell_type": "code",
   "outputs": [],
   "execution_count": null,
   "source": "",
   "id": "e553ede8e0c00062"
  }
 ],
 "metadata": {
  "kernelspec": {
   "display_name": "Python 3",
   "language": "python",
   "name": "python3"
  },
  "language_info": {
   "codemirror_mode": {
    "name": "ipython",
    "version": 2
   },
   "file_extension": ".py",
   "mimetype": "text/x-python",
   "name": "python",
   "nbconvert_exporter": "python",
   "pygments_lexer": "ipython2",
   "version": "2.7.6"
  }
 },
 "nbformat": 4,
 "nbformat_minor": 5
}
