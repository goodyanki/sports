{
 "cells": [
  {
   "cell_type": "code",
   "id": "initial_id",
   "metadata": {
    "collapsed": true,
    "ExecuteTime": {
     "end_time": "2024-11-05T15:10:10.172384Z",
     "start_time": "2024-11-05T15:10:10.075453Z"
    }
   },
   "source": [
    "from nba_api.stats.endpoints import playerdashptshots\n",
    "\n",
    "# 设置赛季和季后赛类型\n",
    "season = \"2023-24\"\n",
    "season_type = \"Playoffs\"\n",
    "\n",
    "# 获取防守数据\n",
    "defense_stats = playerdashptshots.PlayerDashPtShots(\n",
    "    season=season, \n",
    "    season_type_all_star=season_type, \n",
    "    per_mode_simple=\"PerGame\"\n",
    ")\n",
    "\n",
    "# 获取数据框\n",
    "data = defense_stats.get_data_frames()[0]\n",
    "selected_columns = ['PLAYER_ID', 'PLAYER_NAME', 'TEAM_ABBREVIATION', 'GP', 'D_FGM', 'D_FGA', 'D_FG_PCT']\n",
    "\n",
    "\n",
    "filtered_data = data[data['GP'] >= 5].sort_values(by='PLAYER_NAME')[selected_columns]\n",
    "\n",
    "\n",
    "# 查看前几行数据\n",
    "print(filtered_data.head())"
   ],
   "outputs": [
    {
     "ename": "TypeError",
     "evalue": "__init__() missing 2 required positional arguments: 'team_id' and 'player_id'",
     "output_type": "error",
     "traceback": [
      "\u001B[1;31m---------------------------------------------------------------------------\u001B[0m",
      "\u001B[1;31mTypeError\u001B[0m                                 Traceback (most recent call last)",
      "Cell \u001B[1;32mIn[2], line 8\u001B[0m\n\u001B[0;32m      5\u001B[0m season_type \u001B[38;5;241m=\u001B[39m \u001B[38;5;124m\"\u001B[39m\u001B[38;5;124mPlayoffs\u001B[39m\u001B[38;5;124m\"\u001B[39m\n\u001B[0;32m      7\u001B[0m \u001B[38;5;66;03m# 获取防守数据\u001B[39;00m\n\u001B[1;32m----> 8\u001B[0m defense_stats \u001B[38;5;241m=\u001B[39m \u001B[43mplayerdashptshots\u001B[49m\u001B[38;5;241;43m.\u001B[39;49m\u001B[43mPlayerDashPtShots\u001B[49m\u001B[43m(\u001B[49m\n\u001B[0;32m      9\u001B[0m \u001B[43m    \u001B[49m\u001B[43mseason\u001B[49m\u001B[38;5;241;43m=\u001B[39;49m\u001B[43mseason\u001B[49m\u001B[43m,\u001B[49m\u001B[43m \u001B[49m\n\u001B[0;32m     10\u001B[0m \u001B[43m    \u001B[49m\u001B[43mseason_type_all_star\u001B[49m\u001B[38;5;241;43m=\u001B[39;49m\u001B[43mseason_type\u001B[49m\u001B[43m,\u001B[49m\u001B[43m \u001B[49m\n\u001B[0;32m     11\u001B[0m \u001B[43m    \u001B[49m\u001B[43mper_mode_simple\u001B[49m\u001B[38;5;241;43m=\u001B[39;49m\u001B[38;5;124;43m\"\u001B[39;49m\u001B[38;5;124;43mPerGame\u001B[39;49m\u001B[38;5;124;43m\"\u001B[39;49m\n\u001B[0;32m     12\u001B[0m \u001B[43m)\u001B[49m\n\u001B[0;32m     14\u001B[0m \u001B[38;5;66;03m# 获取数据框\u001B[39;00m\n\u001B[0;32m     15\u001B[0m data \u001B[38;5;241m=\u001B[39m defense_stats\u001B[38;5;241m.\u001B[39mget_data_frames()[\u001B[38;5;241m0\u001B[39m]\n",
      "\u001B[1;31mTypeError\u001B[0m: __init__() missing 2 required positional arguments: 'team_id' and 'player_id'"
     ]
    }
   ],
   "execution_count": 2
  },
  {
   "metadata": {},
   "cell_type": "code",
   "outputs": [],
   "execution_count": null,
   "source": "",
   "id": "4bfec35aaea84c89"
  }
 ],
 "metadata": {
  "kernelspec": {
   "display_name": "Python 3",
   "language": "python",
   "name": "python3"
  },
  "language_info": {
   "codemirror_mode": {
    "name": "ipython",
    "version": 2
   },
   "file_extension": ".py",
   "mimetype": "text/x-python",
   "name": "python",
   "nbconvert_exporter": "python",
   "pygments_lexer": "ipython2",
   "version": "2.7.6"
  }
 },
 "nbformat": 4,
 "nbformat_minor": 5
}
