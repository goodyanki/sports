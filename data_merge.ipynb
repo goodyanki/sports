{
 "cells": [
  {
   "cell_type": "code",
   "id": "initial_id",
   "metadata": {
    "collapsed": true,
    "ExecuteTime": {
     "end_time": "2024-11-06T13:26:44.165450Z",
     "start_time": "2024-11-06T13:26:44.128570Z"
    }
   },
   "source": [
    "import pandas as pd\n",
    "\n",
    "# 读取CSV文件\n",
    "df_a = pd.read_csv('sportsref_download.csv')\n",
    "df_b = pd.read_csv('playoff_player_stats.csv')\n",
    "\n",
    "# 使用merge函数匹配两个文件中的Player和PLAYER_NAME列\n",
    "merged_df = pd.merge(df_b, df_a[['Player', '2024-25']], left_on='PLAYER_NAME', right_on='Player', how='left')\n",
    "\n",
    "# 将2024-25列的数据赋值给Salary列\n",
    "merged_df['Salary'] = merged_df['2024-25']\n",
    "\n",
    "# 删除多余的列\n",
    "merged_df = merged_df.drop(columns=['Player', '2024-25'])\n",
    "\n",
    "# 保存结果到新的CSV文件\n",
    "merged_df.to_csv('updated_file_b.csv', index=False)\n",
    "\n",
    "print(\"处理完成，结果已保存到 updated_file_b.csv\")\n"
   ],
   "outputs": [
    {
     "name": "stdout",
     "output_type": "stream",
     "text": [
      "处理完成，结果已保存到 updated_file_b.csv\n"
     ]
    }
   ],
   "execution_count": 2
  },
  {
   "metadata": {},
   "cell_type": "code",
   "outputs": [],
   "execution_count": null,
   "source": "",
   "id": "e1418bd6bbdad9bc"
  }
 ],
 "metadata": {
  "kernelspec": {
   "display_name": "Python 3",
   "language": "python",
   "name": "python3"
  },
  "language_info": {
   "codemirror_mode": {
    "name": "ipython",
    "version": 2
   },
   "file_extension": ".py",
   "mimetype": "text/x-python",
   "name": "python",
   "nbconvert_exporter": "python",
   "pygments_lexer": "ipython2",
   "version": "2.7.6"
  }
 },
 "nbformat": 4,
 "nbformat_minor": 5
}
